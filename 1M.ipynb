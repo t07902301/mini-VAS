{
 "cells": [
  {
   "cell_type": "code",
   "execution_count": 1,
   "metadata": {},
   "outputs": [],
   "source": [
    "import matplotlib.pyplot as plot\n",
    "# from demo import *\n",
    "import pandas as pd\n",
    "# from ilp import ilp\n",
    "from sample import *\n",
    "# import time"
   ]
  },
  {
   "cell_type": "markdown",
   "metadata": {},
   "source": [
    "# Read a dataset of 1M size, while filtering out data point with wrong formats"
   ]
  },
  {
   "cell_type": "code",
   "execution_count": 2,
   "metadata": {},
   "outputs": [
    {
     "name": "stdout",
     "output_type": "stream",
     "text": [
      "1002131\n"
     ]
    }
   ],
   "source": [
    "# plt_files=[]\n",
    "import os\n",
    "# threshold=1e6\n",
    "plt=[]\n",
    "for dir,_,plt_files in os.walk('data/Data/'):\n",
    "    plt+=[os.path.join(dir,file) for file in plt_files]\n",
    "threshold=1e6\n",
    "df=pd.read_csv(plt[0],sep=',',names=['Latitude','Longitude','0','1','2','3','4'],skiprows=6)\n",
    "point_set=np.array(df.loc[:,['Longitude','Latitude']].values.tolist())\n",
    "point_set_size=point_set.shape[0]\n",
    "for file in plt[1:]:\n",
    "    df=pd.read_csv(file,sep=',',names=['Latitude','Longitude','0','1','2','3','4'],skiprows=6)\n",
    "    df_points=np.array(df.loc[:,['Longitude','Latitude']].values.tolist())\n",
    "    if df_points.shape==(0,):\n",
    "        continue\n",
    "    point_set=np.concatenate((point_set,df_points))\n",
    "    point_set_size+=df_points.shape[0]\n",
    "    if point_set_size>threshold:\n",
    "        break\n",
    "print(point_set_size)"
   ]
  },
  {
   "cell_type": "markdown",
   "metadata": {},
   "source": [
    "## Transform the format of raw data"
   ]
  },
  {
   "cell_type": "code",
   "execution_count": 8,
   "metadata": {},
   "outputs": [
    {
     "data": {
      "text/plain": [
       "(1001183, 2)"
      ]
     },
     "execution_count": 8,
     "metadata": {},
     "output_type": "execute_result"
    }
   ],
   "source": [
    "valid_points=[]\n",
    "for i in point_set:\n",
    "    float_i=i.astype(float)\n",
    "    valid_points.append(float_i)\n",
    "valid_points=np.array(valid_points)\n",
    "valid_points.shape"
   ]
  },
  {
   "cell_type": "markdown",
   "metadata": {},
   "source": [
    "# Interchange"
   ]
  },
  {
   "cell_type": "code",
   "execution_count": 9,
   "metadata": {},
   "outputs": [],
   "source": [
    "# Permutate dataset randomly to before running Interchange\n",
    "np.random.seed(0)\n",
    "new=np.random.permutation(valid_points)"
   ]
  },
  {
   "cell_type": "code",
   "execution_count": 4,
   "metadata": {},
   "outputs": [
    {
     "data": {
      "text/plain": [
       "3.797682913998397e-07"
      ]
     },
     "execution_count": 4,
     "metadata": {},
     "output_type": "execute_result"
    }
   ],
   "source": [
    "prox=proximity(valid_points,set_eps=False)\n",
    "prox.epsilon"
   ]
  },
  {
   "cell_type": "code",
   "execution_count": 10,
   "metadata": {},
   "outputs": [
    {
     "name": "stdout",
     "output_type": "stream",
     "text": [
      "1000000\n",
      "Sat Apr 16 13:07:23 2022\n",
      "624 624\n",
      "save 1th file\n",
      "Sat Apr 16 13:07:26 2022\n",
      "914 914\n",
      "save 2th file\n",
      "Sat Apr 16 13:07:29 2022\n",
      "1067 1000\n",
      "save 3th file\n",
      "Sat Apr 16 13:07:32 2022\n",
      "1175 1000\n",
      "save 4th file\n",
      "Sat Apr 16 13:07:35 2022\n",
      "1289 1000\n",
      "save 5th file\n",
      "Sat Apr 16 13:07:38 2022\n",
      "1396 1000\n",
      "save 6th file\n",
      "Sat Apr 16 13:07:41 2022\n",
      "1510 1000\n",
      "save 7th file\n",
      "Sat Apr 16 13:07:44 2022\n",
      "1614 1000\n",
      "save 8th file\n",
      "Sat Apr 16 13:07:47 2022\n",
      "1730 1000\n",
      "save 9th file\n",
      "Sat Apr 16 13:07:50 2022\n",
      "1839 1000\n",
      "save 10th file\n",
      "Sat Apr 16 13:07:53 2022\n",
      "1946 1000\n",
      "save 11th file\n",
      "Sat Apr 16 13:07:56 2022\n",
      "2055 1000\n",
      "save 12th file\n",
      "(1000, 2)\n"
     ]
    }
   ],
   "source": [
    "# Record the running process of Interchange\n",
    "int_generator=interchange_timer(prox)\n",
    "int_samples=int_generator.run(new[:int(1e6)],1000,3,12) \n",
    "print(int_samples.shape)"
   ]
  },
  {
   "cell_type": "code",
   "execution_count": 11,
   "metadata": {},
   "outputs": [
    {
     "name": "stdout",
     "output_type": "stream",
     "text": [
      "438.79 (1000, 2)\n"
     ]
    }
   ],
   "source": [
    "points=np.load('stop_points/int_1000000_3_3_1000.npy')\n",
    "print(get_obj(points,prox),points.shape)"
   ]
  },
  {
   "cell_type": "markdown",
   "metadata": {},
   "source": [
    "# Reservoir Sampling"
   ]
  },
  {
   "cell_type": "code",
   "execution_count": 12,
   "metadata": {},
   "outputs": [
    {
     "name": "stdout",
     "output_type": "stream",
     "text": [
      "1.5478756427764893\n",
      "864.63\n"
     ]
    }
   ],
   "source": [
    "start=time.time()\n",
    "rd_sample=ReservoirSample(valid_points[:int(1e6)],1000)\n",
    "print(time.time()-start)\n",
    "print(get_obj(rd_sample,prox))\n",
    "# rd_x=rd_sample[:,0]\n",
    "# rd_y=rd_sample[:,1]\n",
    "# plot.figure(figsize=(30,20))\n",
    "# plot.xlim(116.28,116.34)\n",
    "# plot.scatter(rd_x,rd_y,c='b')"
   ]
  },
  {
   "cell_type": "markdown",
   "metadata": {},
   "source": [
    "# Stratified Sampling"
   ]
  },
  {
   "cell_type": "code",
   "execution_count": 16,
   "metadata": {},
   "outputs": [
    {
     "name": "stdout",
     "output_type": "stream",
     "text": [
      "1.5353245735168457\n",
      "778.53\n"
     ]
    }
   ],
   "source": [
    "start=time.time()\n",
    "st=Stratified_sampling(valid_points[:int(1e6)],1000)\n",
    "print(time.time()-start)\n",
    "print(get_obj(st,prox))"
   ]
  },
  {
   "cell_type": "code",
   "execution_count": 13,
   "metadata": {},
   "outputs": [
    {
     "data": {
      "text/plain": [
       "[405.9, 821.35, 438.79, 113.99, 25.54, 3.83, 0.1, 0.0, 0.0, 0.0, 0.0, 0.0]"
      ]
     },
     "execution_count": 13,
     "metadata": {},
     "output_type": "execute_result"
    }
   ],
   "source": [
    "# Read and get the objective values from Interchange records\n",
    "obj=[]\n",
    "for i in range(12):\n",
    "    points=np.load('stop_points/int_1000000_3_{}_1000.npy'.format(i+1))\n",
    "    x=points[:,0]\n",
    "    y=points[:,1]\n",
    "    obj.append(get_obj(points,prox))    \n",
    "    print('int_1000000_3_{}_1000.npy'.format(i+1))\n",
    "obj"
   ]
  },
  {
   "cell_type": "code",
   "execution_count": 17,
   "metadata": {},
   "outputs": [
    {
     "name": "stdout",
     "output_type": "stream",
     "text": [
      "1000000\n",
      "Sat Apr 16 13:22:28 2022\n",
      "626 626\n",
      "save 1th file\n",
      "Sat Apr 16 13:22:31 2022\n",
      "845 800\n",
      "save 2th file\n",
      "Sat Apr 16 13:22:34 2022\n",
      "983 800\n",
      "save 3th file\n",
      "Sat Apr 16 13:22:37 2022\n",
      "1108 800\n",
      "save 4th file\n",
      "Sat Apr 16 13:22:40 2022\n",
      "1235 800\n",
      "save 5th file\n",
      "Sat Apr 16 13:22:43 2022\n",
      "1369 800\n",
      "save 6th file\n",
      "Sat Apr 16 13:22:46 2022\n",
      "1510 800\n",
      "save 7th file\n",
      "Sat Apr 16 13:22:49 2022\n",
      "1647 800\n",
      "save 8th file\n",
      "Sat Apr 16 13:22:52 2022\n",
      "1781 800\n",
      "save 9th file\n",
      "Sat Apr 16 13:22:55 2022\n",
      "1915 800\n",
      "save 10th file\n",
      "Sat Apr 16 13:22:58 2022\n",
      "2053 800\n",
      "save 11th file\n",
      "Sat Apr 16 13:23:01 2022\n",
      "2190 800\n",
      "save 12th file\n",
      "(800, 2)\n"
     ]
    }
   ],
   "source": [
    "int_generator=interchange_timer(prox)\n",
    "int_samples=int_generator.run(new[:int(1e6)],800,3,12)\n",
    "print(int_samples.shape)"
   ]
  },
  {
   "cell_type": "code",
   "execution_count": 19,
   "metadata": {},
   "outputs": [
    {
     "name": "stdout",
     "output_type": "stream",
     "text": [
      "int_1000000_3_1_800.npy\n",
      "int_1000000_3_2_800.npy\n",
      "int_1000000_3_3_800.npy\n",
      "int_1000000_3_4_800.npy\n",
      "int_1000000_3_5_800.npy\n",
      "int_1000000_3_6_800.npy\n",
      "int_1000000_3_7_800.npy\n",
      "int_1000000_3_8_800.npy\n",
      "int_1000000_3_9_800.npy\n",
      "int_1000000_3_10_800.npy\n",
      "int_1000000_3_11_800.npy\n",
      "int_1000000_3_12_800.npy\n"
     ]
    },
    {
     "data": {
      "text/plain": [
       "[405.9, 318.41, 34.22, 0.98, 0.0, 0.0, 0.0, 0.0, 0.0, 0.0, 0.0, 0.0]"
      ]
     },
     "execution_count": 19,
     "metadata": {},
     "output_type": "execute_result"
    }
   ],
   "source": [
    "obj_800=[]\n",
    "for i in range(12):\n",
    "    points=np.load('stop_points/int_1000000_3_{}_800.npy'.format(i+1))\n",
    "    x=points[:,0]\n",
    "    y=points[:,1]\n",
    "    obj_800.append(get_obj(points,prox))    \n",
    "    print('int_1000000_3_{}_800.npy'.format(i+1))\n",
    "obj_800"
   ]
  },
  {
   "cell_type": "code",
   "execution_count": 31,
   "metadata": {},
   "outputs": [
    {
     "data": {
      "image/png": "[encoded data removed]",
      "text/plain": [
       "<Figure size 432x288 with 1 Axes>"
      ]
     },
     "metadata": {
      "needs_background": "light"
     },
     "output_type": "display_data"
    }
   ],
   "source": [
    "x_800=[i*3 for i in range(6)]\n",
    "y_800=obj_800[:6]\n",
    "x_1000=[i*3 for i in range(1,6)]\n",
    "y_1000=obj[1:6]\n",
    "# plot.plot(x,y)\n",
    "plot.plot(x_800, y_800, label = \"subset size=800\")\n",
    "plot.plot(x_1000, y_1000, label = \"subset size=1000\")\n",
    "plot.xlabel('Running Time (seconds)')\n",
    "plot.ylabel('Objective Values')\n",
    "plot.legend()\n",
    "plot.show()"
   ]
  }
 ],
 "metadata": {
  "interpreter": {
   "hash": "31f2aee4e71d21fbe5cf8b01ff0e069b9275f58929596ceb00d14d90e3e16cd6"
  },
  "kernelspec": {
   "display_name": "Python 3.6.9 64-bit",
   "language": "python",
   "name": "python3"
  },
  "language_info": {
   "codemirror_mode": {
    "name": "ipython",
    "version": 3
   },
   "file_extension": ".py",
   "mimetype": "text/x-python",
   "name": "python",
   "nbconvert_exporter": "python",
   "pygments_lexer": "ipython3",
   "version": "3.6.9"
  },
  "orig_nbformat": 4
 },
 "nbformat": 4,
 "nbformat_minor": 2
}
